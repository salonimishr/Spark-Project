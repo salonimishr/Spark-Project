{
 "cells": [
  {
   "cell_type": "markdown",
   "metadata": {},
   "source": [
    "# EDA ON AMAZON REVIEW DATASET(MAGAZINE_SUBSCRIPTION)"
   ]
  },
  {
   "cell_type": "code",
   "execution_count": 1,
   "metadata": {},
   "outputs": [],
   "source": [
    "import findspark\n",
    "findspark.init(\"C:\\\\Users\\\\Arvind\\\\Downloads\\\\spark-3.0.0-preview2-bin-hadoop2.7\")\n",
    "\n",
    "#System.setProperty(\"hadoop.home.dir\", \"E:\\software\\spark-3.0.0-preview2-bin-hadoop2.7\\spark-3.0.0-preview2-bin-hadoop2.7\\winutils.exe\");\n"
   ]
  },
  {
   "cell_type": "markdown",
   "metadata": {},
   "source": [
    "## LOADING DATA \n",
    "\n",
    "### INITIALIZING PYSPARK"
   ]
  },
  {
   "cell_type": "code",
   "execution_count": 2,
   "metadata": {},
   "outputs": [],
   "source": [
    "import pyspark # only run after findspark.init()\n",
    "from pyspark.sql import SparkSession\n",
    "\n",
    "EXE_MEMORY = \"1g\"\n",
    "DRIVER_MEMORY = \"4g\"\n",
    "spark = SparkSession.builder.appName(\"AWSNLP\").config(\"spark.executor.memory\", EXE_MEMORY).config(\"spark.executor.cores\", \"3\").config(\"spark.driver.memory\", DRIVER_MEMORY).getOrCreate()"
   ]
  },
  {
   "cell_type": "markdown",
   "metadata": {},
   "source": [
    "## LOADING DATA"
   ]
  },
  {
   "cell_type": "code",
   "execution_count": 3,
   "metadata": {},
   "outputs": [],
   "source": [
    "json_rdd = spark.read.json('C:\\\\Users\\\\Arvind\\\\Downloads\\\\Magazine_Subscriptions.json')"
   ]
  },
  {
   "cell_type": "markdown",
   "metadata": {},
   "source": [
    "## SCHEMA OF DATA"
   ]
  },
  {
   "cell_type": "code",
   "execution_count": 4,
   "metadata": {},
   "outputs": [
    {
     "name": "stdout",
     "output_type": "stream",
     "text": [
      "root\n",
      " |-- asin: string (nullable = true)\n",
      " |-- image: array (nullable = true)\n",
      " |    |-- element: string (containsNull = true)\n",
      " |-- overall: double (nullable = true)\n",
      " |-- reviewText: string (nullable = true)\n",
      " |-- reviewTime: string (nullable = true)\n",
      " |-- reviewerID: string (nullable = true)\n",
      " |-- reviewerName: string (nullable = true)\n",
      " |-- style: struct (nullable = true)\n",
      " |    |-- Format:: string (nullable = true)\n",
      " |-- summary: string (nullable = true)\n",
      " |-- unixReviewTime: long (nullable = true)\n",
      " |-- verified: boolean (nullable = true)\n",
      " |-- vote: string (nullable = true)\n",
      "\n"
     ]
    }
   ],
   "source": [
    "json_rdd.printSchema()"
   ]
  },
  {
   "cell_type": "markdown",
   "metadata": {},
   "source": [
    "## READING DATA"
   ]
  },
  {
   "cell_type": "code",
   "execution_count": 4,
   "metadata": {},
   "outputs": [
    {
     "name": "stdout",
     "output_type": "stream",
     "text": [
      "+----------+-----+-------+--------------------+-----------+-------------+---------------+-----+--------------------+--------------+--------+----+\n",
      "|      asin|image|overall|          reviewText| reviewTime|   reviewerID|   reviewerName|style|             summary|unixReviewTime|verified|vote|\n",
      "+----------+-----+-------+--------------------+-----------+-------------+---------------+-----+--------------------+--------------+--------+----+\n",
      "|B00005N7P0| null|    5.0|for computer enth...| 11 8, 2001|AH2IFH762VY5U|   ted sedlmayr| null|AVID READER SINCE...|    1005177600|   false|   9|\n",
      "|B00005N7P0| null|    5.0|Thank god this is...|10 31, 2001|AOSFI0JEYU4XM|Amazon Customer| null|  The straight scoop|    1004486400|   false|   9|\n",
      "+----------+-----+-------+--------------------+-----------+-------------+---------------+-----+--------------------+--------------+--------+----+\n",
      "only showing top 2 rows\n",
      "\n"
     ]
    }
   ],
   "source": [
    "json_rdd.show(2)"
   ]
  },
  {
   "cell_type": "code",
   "execution_count": 7,
   "metadata": {},
   "outputs": [],
   "source": [
    "df=json_rdd.select('overall','reviewText')"
   ]
  },
  {
   "cell_type": "markdown",
   "metadata": {},
   "source": [
    "## INDEXING AFTER SELECTION OF TWO VARIABLES \n",
    "\n",
    "As reviewerID is not unique therefore indexed the data. "
   ]
  },
  {
   "cell_type": "code",
   "execution_count": 9,
   "metadata": {},
   "outputs": [
    {
     "name": "stdout",
     "output_type": "stream",
     "text": [
      "+-------+--------------------+---+\n",
      "|overall|          reviewText|idx|\n",
      "+-------+--------------------+---+\n",
      "|    5.0|for computer enth...|  1|\n",
      "|    5.0|Thank god this is...|  2|\n",
      "|    3.0|Antiques Magazine...|  3|\n",
      "|    5.0|This beautiful ma...|  4|\n",
      "|    5.0|A great read ever...|  5|\n",
      "|    3.0|This magazine was...|  6|\n",
      "|    5.0|I've read Maximum...|  7|\n",
      "|    5.0|We ordered this m...|  8|\n",
      "|    4.0|I have subscribed...|  9|\n",
      "|    4.0|I'm old, and so i...| 10|\n",
      "|    5.0|At one time, this...| 11|\n",
      "|    2.0|I didn't receive ...| 12|\n",
      "|    5.0|It was inexpensiv...| 13|\n",
      "|    5.0|These periodicals...| 14|\n",
      "|    4.0|So helpful.  A gr...| 15|\n",
      "|    5.0|Best magazine for...| 16|\n",
      "|    5.0|My husband likes ...| 17|\n",
      "|    5.0|I love this magaz...| 18|\n",
      "|    3.0|I am getting sick...| 19|\n",
      "|    5.0|I can recommend M...| 20|\n",
      "+-------+--------------------+---+\n",
      "only showing top 20 rows\n",
      "\n"
     ]
    }
   ],
   "source": [
    "from pyspark.sql.window import Window as W\n",
    "from pyspark.sql import functions as F\n",
    "df1 = df.withColumn(\"idx\", F.monotonically_increasing_id())\n",
    "windowSpec = W.orderBy(\"idx\")\n",
    "df1.withColumn(\"idx\", F.row_number().over(windowSpec)).show()"
   ]
  },
  {
   "cell_type": "code",
   "execution_count": 136,
   "metadata": {},
   "outputs": [],
   "source": [
    "df2=json_rdd.select(\"overall\")\n",
    "df2=df2.groupby('overall').count().sort('overall')"
   ]
  },
  {
   "cell_type": "code",
   "execution_count": 137,
   "metadata": {},
   "outputs": [
    {
     "data": {
      "text/html": [
       "<div>\n",
       "<style scoped>\n",
       "    .dataframe tbody tr th:only-of-type {\n",
       "        vertical-align: middle;\n",
       "    }\n",
       "\n",
       "    .dataframe tbody tr th {\n",
       "        vertical-align: top;\n",
       "    }\n",
       "\n",
       "    .dataframe thead th {\n",
       "        text-align: right;\n",
       "    }\n",
       "</style>\n",
       "<table border=\"1\" class=\"dataframe\">\n",
       "  <thead>\n",
       "    <tr style=\"text-align: right;\">\n",
       "      <th></th>\n",
       "      <th>overall</th>\n",
       "      <th>count</th>\n",
       "    </tr>\n",
       "  </thead>\n",
       "  <tbody>\n",
       "    <tr>\n",
       "      <th>0</th>\n",
       "      <td>1.0</td>\n",
       "      <td>11029</td>\n",
       "    </tr>\n",
       "    <tr>\n",
       "      <th>1</th>\n",
       "      <td>2.0</td>\n",
       "      <td>5223</td>\n",
       "    </tr>\n",
       "    <tr>\n",
       "      <th>2</th>\n",
       "      <td>3.0</td>\n",
       "      <td>6971</td>\n",
       "    </tr>\n",
       "    <tr>\n",
       "      <th>3</th>\n",
       "      <td>4.0</td>\n",
       "      <td>12676</td>\n",
       "    </tr>\n",
       "    <tr>\n",
       "      <th>4</th>\n",
       "      <td>5.0</td>\n",
       "      <td>53790</td>\n",
       "    </tr>\n",
       "  </tbody>\n",
       "</table>\n",
       "</div>"
      ],
      "text/plain": [
       "   overall  count\n",
       "0      1.0  11029\n",
       "1      2.0   5223\n",
       "2      3.0   6971\n",
       "3      4.0  12676\n",
       "4      5.0  53790"
      ]
     },
     "execution_count": 137,
     "metadata": {},
     "output_type": "execute_result"
    }
   ],
   "source": [
    "#type(df2)\n",
    "pd1=df2.toPandas()\n",
    "pd1.head()"
   ]
  },
  {
   "cell_type": "markdown",
   "metadata": {},
   "source": [
    "## OVERALL VARIABLE FREQUENCY CHART"
   ]
  },
  {
   "cell_type": "code",
   "execution_count": 140,
   "metadata": {
    "scrolled": true
   },
   "outputs": [
    {
     "data": {
      "text/plain": [
       "<matplotlib.axes._subplots.AxesSubplot at 0x1883c963f28>"
      ]
     },
     "execution_count": 140,
     "metadata": {},
     "output_type": "execute_result"
    },
    {
     "data": {
      "image/png": "[encoded data removed]",
      "text/plain": [
       "<Figure size 576x432 with 1 Axes>"
      ]
     },
     "metadata": {},
     "output_type": "display_data"
    }
   ],
   "source": [
    "import matplotlib.pyplot as plt\n",
    "import matplotlib.cm as cm\n",
    "from matplotlib.colors import Normalize\n",
    "import pandas as pd\n",
    "import seaborn as sns\n",
    "# Get a color map\n",
    "sns.set_style(\"darkgrid\")\n",
    "plt.figure(figsize=(8,6))\n",
    "#my_cmap = cm.get_cmap('jet')\n",
    "sns.barplot(data=pd1, x='overall',y='count', palette=\"rocket\")\n"
   ]
  },
  {
   "cell_type": "code",
   "execution_count": 50,
   "metadata": {},
   "outputs": [],
   "source": [
    "aws_df = json_rdd.select( 'reviewText')"
   ]
  },
  {
   "cell_type": "code",
   "execution_count": 26,
   "metadata": {},
   "outputs": [
    {
     "name": "stdout",
     "output_type": "stream",
     "text": [
      "+--------------------+\n",
      "|          reviewText|\n",
      "+--------------------+\n",
      "|for computer enth...|\n",
      "|Thank god this is...|\n",
      "|Antiques Magazine...|\n",
      "|This beautiful ma...|\n",
      "|A great read ever...|\n",
      "+--------------------+\n",
      "only showing top 5 rows\n",
      "\n"
     ]
    }
   ],
   "source": [
    "aws_df.show(5)"
   ]
  },
  {
   "cell_type": "code",
   "execution_count": 27,
   "metadata": {},
   "outputs": [],
   "source": [
    "selective_aws_df.createOrReplaceTempView(\"selective_aws_df\")\n",
    "    "
   ]
  },
  {
   "cell_type": "markdown",
   "metadata": {},
   "source": [
    "## COUNTING WORDS IN EACH SENTENCE"
   ]
  },
  {
   "cell_type": "code",
   "execution_count": 198,
   "metadata": {},
   "outputs": [
    {
     "name": "stdout",
     "output_type": "stream",
     "text": [
      "+-----------------------------------------------------------------------------------------------------------------------------------------------------------------------------------------------------------------------------------------------------------------------------------------------------------------------------------------------------------------------------------------------------------------------------------------------------------------------------------------------------------------------------------------------------------------------------------------------------------------------------------------------------------------------------------------------------------------------------------------------------------------------------------------------------------------------------------------------------------------------------------------------------------------------------------------------------------------------------------------------------------------------------------------------------------------------------------------------------------------------------------------------------------------------------------------------------------------------------------------------------------------------------------------------------------------------------------------------------------------------------------------------------------------------------------------------------------------------------------------------------------------------------------------------------------------------------------------------------------------------------------------------------------------------------------------------------------------------------------------------------------------------------------------------------------------------------------------------------------------------------------------------------------------------------------------------------------------------------------------------------------------------------------------------------------------------------------------------------------------------------------------------------------------------------------------------------------------------------------------------------------------------------------------------------------------------------------------------------------------------------------------------------------------------------------------------------------------------------------------+--------------------------------------------------------------+\n",
      "|reviewText                                                                                                                                                                                                                                                                                                                                                                                                                                                                                                                                                                                                                                                                                                                                                                                                                                                                                                                                                                                                                                                                                                                                                                                                                                                                                                                                                                                                                                                                                                                                                                                                                                                                                                                                                                                                                                                                                                                                                                                                                                                                                                                                                                                                                                                                                                                                                                                                                                                                               |word_count                                                    |\n",
      "+-----------------------------------------------------------------------------------------------------------------------------------------------------------------------------------------------------------------------------------------------------------------------------------------------------------------------------------------------------------------------------------------------------------------------------------------------------------------------------------------------------------------------------------------------------------------------------------------------------------------------------------------------------------------------------------------------------------------------------------------------------------------------------------------------------------------------------------------------------------------------------------------------------------------------------------------------------------------------------------------------------------------------------------------------------------------------------------------------------------------------------------------------------------------------------------------------------------------------------------------------------------------------------------------------------------------------------------------------------------------------------------------------------------------------------------------------------------------------------------------------------------------------------------------------------------------------------------------------------------------------------------------------------------------------------------------------------------------------------------------------------------------------------------------------------------------------------------------------------------------------------------------------------------------------------------------------------------------------------------------------------------------------------------------------------------------------------------------------------------------------------------------------------------------------------------------------------------------------------------------------------------------------------------------------------------------------------------------------------------------------------------------------------------------------------------------------------------------------------------------+--------------------------------------------------------------+\n",
      "|for computer enthusiast, MaxPC is a welcome sight in your mailbox. i can remember for years savorying every page of \"boot\" (as it was called in beginning) as i was (and still am) obcessed with PC's. Anyone, from advanced users - to beginners looking for knowledge - can profit from every issue of MaxPC. the icing on the cake is the subscription that comes with a CD-ROM as it is packed with demos, utilities, and other useful apps (very helpful for those not blessed with broadband connections). Until I discovered the community of hardware enthusiast web sites, MaxPC, formerly \"boot\", was my only really informative source for computing news and articles. To this day, i consider my subscription to it worth more than 10 subscriptions to most other computing mags. I can't wait until they merge with DVD media and maybe end up offering more info on Divx codecs, encoding your own movies, and best bang for the buck audio and video equipment. Try a few issues (with CD)and you may get hooked...                                                                                                                                                                                                                                                                                                                                                                                                                                                                                                                                                                                                                                                                                                                                                                                                                                                                                                                                                                                                                                                                                                                                                                                                                                                                                                                                                                                                                                                     |[11, 25, 18, 33, 24, 19, 33, 10]                              |\n",
      "|Thank god this is not a Ziff Davis publication.  MaxPC will actually tell you if a product is bad. They will print just what they think about something; no sugar coating. I would compare their style to Car and Driver. Technical, but they know how to have a good time.                                                                                                                                                                                                                                                                                                                                                                                                                                                                                                                                                                                                                                                                                                                                                                                                                                                                                                                                                                                                                                                                                                                                                                                                                                                                                                                                                                                                                                                                                                                                                                                                                                                                                                                                                                                                                                                                                                                                                                                                                                                                                                                                                                                                              |[9, 10, 12, 9, 10]                                            |\n",
      "|Antiques Magazine is a publication made for antique lovers and history buffs and its pages are loaded with photos of artistic paintings, handmade goods, rare pictures, and other items of similar nature. It is a magazine for those who love antiques and also those who consider themselves historians since many articles deal with historical collections of art and antiques.\n",
      "\n",
      "This magazine is overflowing with antique goods and information. The articles contained in this magazine are intended to be visually stimulating in some cases, educational in others. They offer history lessons on the art that was popular during a specific era, a glimpse into an art collection at a museum, and more. The articles are meant to stimulate the interests of those who already like this subject and they often provide a means to learn more, to discover places to see or purchase some of the featured works, and to develop an appreciation for the craftsmanship that went into making these items.\n",
      "\n",
      "Antiques Magazine is a publication dedicated to creative art and history but one thing that isn't very creative is the titles of the articles. This might surprise some readers at first, but the editors at Antiques decided to get straight to the point in the naming of the featured articles rather than try to be creative. The features thus have titles like \"The Eating Utensil Collection\", \"Spanish Culture in Art\", etc. Each title points out exactly what the article covers, leaving nothing to the imagination.\n",
      "\n",
      "The writing in Antiques is certainly good and well- edited. But I'm afraid that many readers will find the articles a little boring. They describe things well and they usually offer a good history lesson. But they lack spark and readability. I have tried to read some articles in this magazine and found my eyelids getting heavy and my thoughts drifting to other subjects. This is why I generally stick with the pictures when I glance at Antiques Magazine. I don't bother reading because most of the material doesn't keep my interest.\n",
      "\n",
      "Overall, Antiques Magazine is an okay publication and unless you have a deep interest in antiques and their history, you will likely become bored quickly if you try to read the articles. But the pictures in Antiques are often very interesting. Even if you have little interest in reading a magazine like this one, the photos alone make it worth an occasional look.|[32, 36, 18, 25, 74, 32, 15, 24, 13, 12, 6, 23, 15, 45, 9, 22]|\n",
      "|This beautiful magazine is in itself a work of art. The quality of every page and bits of information is fascinating. I see the art, the homes and read every word including the ads. I first discovered this gem in London many years ago and now it is in my home and very welcome at that.                                                                                                                                                                                                                                                                                                                                                                                                                                                                                                                                                                                                                                                                                                                                                                                                                                                                                                                                                                                                                                                                                                                                                                                                                                                                                                                                                                                                                                                                                                                                                                                                                                                                                                                                                                                                                                                                                                                                                                                                                                                                                                                                                                                            |[10, 11, 13, 22]                                              |\n",
      "|A great read every issue.                                                                                                                                                                                                                                                                                                                                                                                                                                                                                                                                                                                                                                                                                                                                                                                                                                                                                                                                                                                                                                                                                                                                                                                                                                                                                                                                                                                                                                                                                                                                                                                                                                                                                                                                                                                                                                                                                                                                                                                                                                                                                                                                                                                                                                                                                                                                                                                                                                                                |[5]                                                           |\n",
      "|This magazine was great for the times but as with all other technology magazines the new stuff isn't as good a lot of advertisments and reviews seem biased.                                                                                                                                                                                                                                                                                                                                                                                                                                                                                                                                                                                                                                                                                                                                                                                                                                                                                                                                                                                                                                                                                                                                                                                                                                                                                                                                                                                                                                                                                                                                                                                                                                                                                                                                                                                                                                                                                                                                                                                                                                                                                                                                                                                                                                                                                                                             |[28]                                                          |\n",
      "|I've read Maximum PC (MPC) for many years. The articles in it are not too technical and are written with light humor. That makes it very easy to read while at the same time it is imparting in-depth technical know-how.\n",
      "\n",
      " If you are a newbie, in no time you possess expert knowledge of computers and, to an extent, of electronics.\n",
      "\n",
      "If you are already advanced, then you get even more advanced. Period.\n",
      "\n",
      "As an MPC reader you naturally become the PC nerd amongst your friends, family, and coworkers, that everybody keeps coming to for advise and requests for help.\n",
      "\n",
      "For instance at the launch of new operating system, such as with windows 8, and win 7, you'll get mobbed by confused hordes of PC users with a lost sense of direction.\n",
      "\n",
      "You become their sole bastion of hope standing solidly there in the middle, that they can hold on to for guidance.\n",
      "\n",
      "There are also little tid bits of information that can unexpectedly result in huge payoffs. In a little corner in one issue for example, they showed how to insert a check mark in my Utorrent software, that encrypted its outgoing traffic, so that my ISP couldn't invade my privacy anymore, and so had to stop bothering and threatening me about my sharing of copyrighted materials with my friends. That was a relief!\n",
      "\n",
      "I also like the fact that the magazine deals with both computer hardware, and software - though the emphasis is on hardware.\n",
      "\n",
      "There are also letters to the computer doctor who diagnoses and then gives good advice on a range of computer illnesses and hiccups.\n",
      "\n",
      "You also get the latest news taking place in the tech world and on copyright issues.\n",
      "\n",
      "Overall It is a well rounded publication with a little for everyone, young and old, great and small.\n",
      "\n",
      "I have the kindle for Ipad version, and it is the absolute best. Better than the Maximum PC app itself that doesn't really work.                                                                                                                                                                                                                                                                                                                                                                                                                                                                                                                                                                          |[8, 14, 49, 96, 53, 96, 11]                                   |\n",
      "|We ordered this magazine for our grandson (then 7 going on 30) who was/is deploy into technology. He really enjoyed every issue.                                                                                                                                                                                                                                                                                                                                                                                                                                                                                                                                                                                                                                                                                                                                                                                                                                                                                                                                                                                                                                                                                                                                                                                                                                                                                                                                                                                                                                                                                                                                                                                                                                                                                                                                                                                                                                                                                                                                                                                                                                                                                                                                                                                                                                                                                                                                                         |[17, 5]                                                       |\n",
      "|I have subscribed to the nook version for a few years now and thoroughly enjoy this magazine. It has enough tech and what's new to keep me happy.                                                                                                                                                                                                                                                                                                                                                                                                                                                                                                                                                                                                                                                                                                                                                                                                                                                                                                                                                                                                                                                                                                                                                                                                                                                                                                                                                                                                                                                                                                                                                                                                                                                                                                                                                                                                                                                                                                                                                                                                                                                                                                                                                                                                                                                                                                                                        |[17, 11]                                                      |\n",
      "|I'm old, and so is my computer.  Any advice that can help me maximize my computer perfomance is very welcome.  MaximumPC has some good tips on computer parts, vendors, and usefull tests                                                                                                                                                                                                                                                                                                                                                                                                                                                                                                                                                                                                                                                                                                                                                                                                                                                                                                                                                                                                                                                                                                                                                                                                                                                                                                                                                                                                                                                                                                                                                                                                                                                                                                                                                                                                                                                                                                                                                                                                                                                                                                                                                                                                                                                                                                |[7, 13, 12]                                                   |\n",
      "|At one time, this was my least favorite computer magazine. As more and more computer magazines discontinued the print editions (which i prefer), this and one other remained. When renewal time came, I asked myself, \"do I really need two ccomputer magazines\". No. One will be suficient. I decided that page for page, Maximum PC offered more useful content per page. A bonus is that if you are a 'computer geek', you'll simply 'droll' over some of the 'dream machines' Maximum PC reviews. Highly recommended.                                                                                                                                                                                                                                                                                                                                                                                                                                                                                                                                                                                                                                                                                                                                                                                                                                                                                                                                                                                                                                                                                                                                                                                                                                                                                                                                                                                                                                                                                                                                                                                                                                                                                                                                                                                                                                                                                                                                                                |[10, 18, 14, 1, 4, 14, 22, 2]                                 |\n",
      "|I didn't receive a full year.  I only receive the magazine twice.  It's a good magazine, I just didn't receive it as promised.                                                                                                                                                                                                                                                                                                                                                                                                                                                                                                                                                                                                                                                                                                                                                                                                                                                                                                                                                                                                                                                                                                                                                                                                                                                                                                                                                                                                                                                                                                                                                                                                                                                                                                                                                                                                                                                                                                                                                                                                                                                                                                                                                                                                                                                                                                                                                           |[6, 6, 11]                                                    |\n",
      "|It was inexpensive, but now I'm getting it as an e-subscription.  Would have kept it if it had stayed at $5 - hey, can't hope that a good thing will last.  :-)  Overall, great magazine that I've subscribed to for years.                                                                                                                                                                                                                                                                                                                                                                                                                                                                                                                                                                                                                                                                                                                                                                                                                                                                                                                                                                                                                                                                                                                                                                                                                                                                                                                                                                                                                                                                                                                                                                                                                                                                                                                                                                                                                                                                                                                                                                                                                                                                                                                                                                                                                                                              |[11, 20, 10]                                                  |\n",
      "|These periodicals keep me up to date on everything from Foreign Affairs to Fashion to IT. I Gotta know whatup.                                                                                                                                                                                                                                                                                                                                                                                                                                                                                                                                                                                                                                                                                                                                                                                                                                                                                                                                                                                                                                                                                                                                                                                                                                                                                                                                                                                                                                                                                                                                                                                                                                                                                                                                                                                                                                                                                                                                                                                                                                                                                                                                                                                                                                                                                                                                                                           |[16, 4]                                                       |\n",
      "|So helpful.  A great way to educate yourself on all things PC.  Always includes helpful artilcles about how best to make your PC better.                                                                                                                                                                                                                                                                                                                                                                                                                                                                                                                                                                                                                                                                                                                                                                                                                                                                                                                                                                                                                                                                                                                                                                                                                                                                                                                                                                                                                                                                                                                                                                                                                                                                                                                                                                                                                                                                                                                                                                                                                                                                                                                                                                                                                                                                                                                                                 |[2, 10, 12]                                                   |\n",
      "|Best magazine for technology news, custom builds and how-tos.  My only complaint is that Amazon does not offer this as a 1year auto renewal.  If they did, I would buy it immediately.                                                                                                                                                                                                                                                                                                                                                                                                                                                                                                                                                                                                                                                                                                                                                                                                                                                                                                                                                                                                                                                                                                                                                                                                                                                                                                                                                                                                                                                                                                                                                                                                                                                                                                                                                                                                                                                                                                                                                                                                                                                                                                                                                                                                                                                                                                   |[9, 15, 8]                                                    |\n",
      "|My husband likes this magaize alot.  It lets him know what is new out there, for when he builds a new pc.                                                                                                                                                                                                                                                                                                                                                                                                                                                                                                                                                                                                                                                                                                                                                                                                                                                                                                                                                                                                                                                                                                                                                                                                                                                                                                                                                                                                                                                                                                                                                                                                                                                                                                                                                                                                                                                                                                                                                                                                                                                                                                                                                                                                                                                                                                                                                                                |[6, 16]                                                       |\n",
      "|I love this magazine.  I like the different articles they have and the reviews help guide my purchases.  I purchased my entire computer based upon recommended parts from this magazine last year and it is running great and all my games run at high or ultra.  I highly recommend this magazine for gamers that still like the PC over consoles and other devices!!                                                                                                                                                                                                                                                                                                                                                                                                                                                                                                                                                                                                                                                                                                                                                                                                                                                                                                                                                                                                                                                                                                                                                                                                                                                                                                                                                                                                                                                                                                                                                                                                                                                                                                                                                                                                                                                                                                                                                                                                                                                                                                                   |[4, 14, 28, 17]                                               |\n",
      "|I am getting sick and tired of seeing the next issue on news stands before it hits my home.  Loyal members should have it fresh off the press.  I wonder if Future US Customer Service reads this???                                                                                                                                                                                                                                                                                                                                                                                                                                                                                                                                                                                                                                                                                                                                                                                                                                                                                                                                                                                                                                                                                                                                                                                                                                                                                                                                                                                                                                                                                                                                                                                                                                                                                                                                                                                                                                                                                                                                                                                                                                                                                                                                                                                                                                                                                     |[19, 9, 9]                                                    |\n",
      "|I can recommend Maximum PC for computer user/builder (who's not?). Once I got it I still keep my subscription.\n",
      "It's not expensive, but every issue has a lot of valuable information.                                                                                                                                                                                                                                                                                                                                                                                                                                                                                                                                                                                                                                                                                                                                                                                                                                                                                                                                                                                                                                                                                                                                                                                                                                                                                                                                                                                                                                                                                                                                                                                                                                                                                                                                                                                                                                                                                                                                                                                                                                                                                                                                                                                                                                                                                                    |[10, 21]                                                      |\n",
      "+-----------------------------------------------------------------------------------------------------------------------------------------------------------------------------------------------------------------------------------------------------------------------------------------------------------------------------------------------------------------------------------------------------------------------------------------------------------------------------------------------------------------------------------------------------------------------------------------------------------------------------------------------------------------------------------------------------------------------------------------------------------------------------------------------------------------------------------------------------------------------------------------------------------------------------------------------------------------------------------------------------------------------------------------------------------------------------------------------------------------------------------------------------------------------------------------------------------------------------------------------------------------------------------------------------------------------------------------------------------------------------------------------------------------------------------------------------------------------------------------------------------------------------------------------------------------------------------------------------------------------------------------------------------------------------------------------------------------------------------------------------------------------------------------------------------------------------------------------------------------------------------------------------------------------------------------------------------------------------------------------------------------------------------------------------------------------------------------------------------------------------------------------------------------------------------------------------------------------------------------------------------------------------------------------------------------------------------------------------------------------------------------------------------------------------------------------------------------------------------------+--------------------------------------------------------------+\n",
      "only showing top 20 rows\n",
      "\n"
     ]
    }
   ],
   "source": [
    "from pyspark.sql import functions as F\n",
    "def countWordsInEachSentences(array):\n",
    "    return [len(x.split()) for x in array]\n",
    "\n",
    "countWordsSentences = F.udf(lambda x: countWordsInEachSentences(x.split('. ')))\n",
    "\n",
    "selective_aws_df.withColumn(\"word_count\", countWordsSentences(selective_aws_df['reviewText'])).show(truncate=False)"
   ]
  },
  {
   "cell_type": "markdown",
   "metadata": {},
   "source": [
    "## COUNTING TOTAL NUMBER OF WORDS \n",
    "\n",
    "ReviewText variable f dataset has 3920235 total number of words."
   ]
  },
  {
   "cell_type": "code",
   "execution_count": 78,
   "metadata": {},
   "outputs": [
    {
     "name": "stdout",
     "output_type": "stream",
     "text": [
      "+--------------------+---------+\n",
      "|          reviewText|wordCount|\n",
      "+--------------------+---------+\n",
      "|for computer enth...|      173|\n",
      "|Thank god this is...|       51|\n",
      "|Antiques Magazine...|      397|\n",
      "|This beautiful ma...|       56|\n",
      "|A great read ever...|        5|\n",
      "|This magazine was...|       28|\n",
      "|I've read Maximum...|      317|\n",
      "|We ordered this m...|       22|\n",
      "|I have subscribed...|       28|\n",
      "|I'm old, and so i...|       34|\n",
      "|At one time, this...|       85|\n",
      "|I didn't receive ...|       25|\n",
      "|It was inexpensiv...|       44|\n",
      "|These periodicals...|       20|\n",
      "|So helpful.  A gr...|       26|\n",
      "|Best magazine for...|       34|\n",
      "|My husband likes ...|       23|\n",
      "|I love this magaz...|       66|\n",
      "|I am getting sick...|       39|\n",
      "|I can recommend M...|       30|\n",
      "+--------------------+---------+\n",
      "only showing top 20 rows\n",
      "\n"
     ]
    }
   ],
   "source": [
    "import pyspark.sql.functions as f\n",
    "df5 = df_sent.withColumn('wordCount', f.size(f.split(f.col('reviewText'), ' ')))\n",
    "df5.show()"
   ]
  },
  {
   "cell_type": "code",
   "execution_count": 80,
   "metadata": {},
   "outputs": [
    {
     "data": {
      "text/plain": [
       "[Row(sum(wordCount)=3920235)]"
      ]
     },
     "execution_count": 80,
     "metadata": {},
     "output_type": "execute_result"
    }
   ],
   "source": [
    "import pyspark.sql.functions as f\n",
    "df5.select(f.sum('wordCount')).collect()\n"
   ]
  },
  {
   "cell_type": "code",
   "execution_count": 90,
   "metadata": {},
   "outputs": [],
   "source": [
    "df7=df5.select('wordCount')\n",
    "df8=df7.toPandas()"
   ]
  },
  {
   "cell_type": "markdown",
   "metadata": {},
   "source": [
    "## Histogram showing most of the reviews are less than 50 number of words."
   ]
  },
  {
   "cell_type": "code",
   "execution_count": 93,
   "metadata": {},
   "outputs": [
    {
     "data": {
      "text/plain": [
       "array([[<matplotlib.axes._subplots.AxesSubplot object at 0x000001877AE0B748>]],\n",
       "      dtype=object)"
      ]
     },
     "execution_count": 93,
     "metadata": {},
     "output_type": "execute_result"
    },
    {
     "data": {
      "image/png": "[encoded data removed]",
      "text/plain": [
       "<Figure size 432x288 with 1 Axes>"
      ]
     },
     "metadata": {},
     "output_type": "display_data"
    }
   ],
   "source": [
    "import matplotlib.pyplot as plt\n",
    "import pandas as pd\n",
    "import numpy as np\n",
    "df8.hist('wordCount',range=(0,300), color='green')"
   ]
  },
  {
   "cell_type": "markdown",
   "metadata": {},
   "source": [
    "## TOTAL NUMBER OF CHARACTERS\n",
    "\n",
    "There are total 21871568 number of characters in reviewText."
   ]
  },
  {
   "cell_type": "code",
   "execution_count": 94,
   "metadata": {},
   "outputs": [],
   "source": [
    "#Charachter count by column\n",
    "import pyspark.sql.functions as f\n",
    "\n",
    "df9=aws_df.withColumn('Char', f.explode(f.split(f.col('reviewText'), '')))\\\n",
    "    .groupBy('Char')\\\n",
    "    .count()\\\n",
    "    .sort('Count', ascending=False)"
   ]
  },
  {
   "cell_type": "code",
   "execution_count": 95,
   "metadata": {},
   "outputs": [
    {
     "data": {
      "text/plain": [
       "[Row(sum(Count)=21871568)]"
      ]
     },
     "execution_count": 95,
     "metadata": {},
     "output_type": "execute_result"
    }
   ],
   "source": [
    "import pyspark.sql.functions as f\n",
    "\n",
    "df9.select(f.sum('Count')).collect()"
   ]
  },
  {
   "cell_type": "code",
   "execution_count": 96,
   "metadata": {},
   "outputs": [
    {
     "name": "stdout",
     "output_type": "stream",
     "text": [
      "+----+-------+\n",
      "|Char|  count|\n",
      "+----+-------+\n",
      "|    |3830579|\n",
      "|   e|2042327|\n",
      "|   t|1511087|\n",
      "|   a|1408099|\n",
      "|   o|1273435|\n",
      "+----+-------+\n",
      "only showing top 5 rows\n",
      "\n"
     ]
    }
   ],
   "source": [
    "df9.show(5)"
   ]
  },
  {
   "cell_type": "code",
   "execution_count": null,
   "metadata": {
    "collapsed": true
   },
   "outputs": [],
   "source": [
    "import pyspark.sql.functions as F\n",
    "df.withColumn('Col2', F.length('Col1')).show()"
   ]
  },
  {
   "cell_type": "markdown",
   "metadata": {},
   "source": [
    "## WORD FREQUENCY\n",
    "\n",
    "WORD The has highest frequency in variable reviewText i.e., 153152."
   ]
  },
  {
   "cell_type": "code",
   "execution_count": 97,
   "metadata": {},
   "outputs": [],
   "source": [
    "import pyspark.sql.functions as f\n",
    "df9=df_sent.withColumn('word', f.explode(f.split(f.col('reviewText'), ' ')))\\\n",
    "    .groupBy('word')\\\n",
    "    .count()\\\n",
    "    .sort('count', ascending=False)"
   ]
  },
  {
   "cell_type": "code",
   "execution_count": 98,
   "metadata": {},
   "outputs": [
    {
     "name": "stdout",
     "output_type": "stream",
     "text": [
      "+--------+------+\n",
      "|    word| count|\n",
      "+--------+------+\n",
      "|     the|153152|\n",
      "|       I|113953|\n",
      "|     and|111100|\n",
      "|      to|106187|\n",
      "|       a| 88923|\n",
      "|        | 76732|\n",
      "|      of| 74153|\n",
      "|      is| 58929|\n",
      "|     for| 56338|\n",
      "|      it| 45794|\n",
      "|magazine| 43504|\n",
      "|      in| 42082|\n",
      "|    this| 41617|\n",
      "|    that| 36556|\n",
      "|      my| 33355|\n",
      "|      on| 29884|\n",
      "|    have| 28355|\n",
      "|     are| 26248|\n",
      "|    with| 24159|\n",
      "|     you| 23798|\n",
      "+--------+------+\n",
      "only showing top 20 rows\n",
      "\n"
     ]
    }
   ],
   "source": [
    "df9.show()"
   ]
  },
  {
   "cell_type": "code",
   "execution_count": 123,
   "metadata": {},
   "outputs": [],
   "source": [
    "df10=df9.limit(55).toPandas()"
   ]
  },
  {
   "cell_type": "code",
   "execution_count": 110,
   "metadata": {},
   "outputs": [
    {
     "data": {
      "text/html": [
       "<div>\n",
       "<style scoped>\n",
       "    .dataframe tbody tr th:only-of-type {\n",
       "        vertical-align: middle;\n",
       "    }\n",
       "\n",
       "    .dataframe tbody tr th {\n",
       "        vertical-align: top;\n",
       "    }\n",
       "\n",
       "    .dataframe thead th {\n",
       "        text-align: right;\n",
       "    }\n",
       "</style>\n",
       "<table border=\"1\" class=\"dataframe\">\n",
       "  <thead>\n",
       "    <tr style=\"text-align: right;\">\n",
       "      <th></th>\n",
       "      <th>word</th>\n",
       "      <th>count</th>\n",
       "    </tr>\n",
       "  </thead>\n",
       "  <tbody>\n",
       "    <tr>\n",
       "      <th>0</th>\n",
       "      <td>the</td>\n",
       "      <td>153152</td>\n",
       "    </tr>\n",
       "    <tr>\n",
       "      <th>1</th>\n",
       "      <td>I</td>\n",
       "      <td>113953</td>\n",
       "    </tr>\n",
       "    <tr>\n",
       "      <th>2</th>\n",
       "      <td>and</td>\n",
       "      <td>111100</td>\n",
       "    </tr>\n",
       "    <tr>\n",
       "      <th>3</th>\n",
       "      <td>to</td>\n",
       "      <td>106187</td>\n",
       "    </tr>\n",
       "    <tr>\n",
       "      <th>4</th>\n",
       "      <td>a</td>\n",
       "      <td>88923</td>\n",
       "    </tr>\n",
       "  </tbody>\n",
       "</table>\n",
       "</div>"
      ],
      "text/plain": [
       "  word   count\n",
       "0  the  153152\n",
       "1    I  113953\n",
       "2  and  111100\n",
       "3   to  106187\n",
       "4    a   88923"
      ]
     },
     "execution_count": 110,
     "metadata": {},
     "output_type": "execute_result"
    }
   ],
   "source": [
    "df10.head()"
   ]
  },
  {
   "cell_type": "markdown",
   "metadata": {},
   "source": [
    "## PLOT OF TOP 55 HIGHEST FREQUENCY WORDS IN REVIEWTEXT"
   ]
  },
  {
   "cell_type": "code",
   "execution_count": 124,
   "metadata": {},
   "outputs": [
    {
     "data": {
      "text/plain": [
       "<matplotlib.axes._subplots.AxesSubplot at 0x1883c5baf28>"
      ]
     },
     "execution_count": 124,
     "metadata": {},
     "output_type": "execute_result"
    },
    {
     "data": {
      "image/png": "[encoded data removed]",
      "text/plain": [
       "<Figure size 720x720 with 1 Axes>"
      ]
     },
     "metadata": {},
     "output_type": "display_data"
    }
   ],
   "source": [
    "import matplotlib.pyplot as plt\n",
    "import pandas as pd\n",
    "df10.plot(kind='bar', x='word', y='count',figsize=(10,10), color=\"c\")"
   ]
  }
 ],
 "metadata": {
  "kernelspec": {
   "display_name": "Python 3",
   "language": "python",
   "name": "python3"
  },
  "language_info": {
   "codemirror_mode": {
    "name": "ipython",
    "version": 3
   },
   "file_extension": ".py",
   "mimetype": "text/x-python",
   "name": "python",
   "nbconvert_exporter": "python",
   "pygments_lexer": "ipython3",
   "version": "3.6.8"
  }
 },
 "nbformat": 4,
 "nbformat_minor": 2
}
