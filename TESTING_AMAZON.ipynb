{
 "cells": [
  {
   "cell_type": "markdown",
   "metadata": {},
   "source": [
    "# TESTING"
   ]
  },
  {
   "cell_type": "code",
   "execution_count": 331,
   "metadata": {},
   "outputs": [],
   "source": [
    "import findspark\n",
    "findspark.init()\n",
    "\n",
    "#System.setProperty(\"hadoop.home.dir\", \"E:\\software\\spark-3.0.0-preview2-bin-hadoop2.7\\spark-3.0.0-preview2-bin-hadoop2.7\\winutils.exe\");\n"
   ]
  },
  {
   "cell_type": "code",
   "execution_count": 2,
   "metadata": {},
   "outputs": [],
   "source": [
    "import pyspark # only run after findspark.init()\n",
    "from pyspark.sql import SparkSession\n",
    "\n",
    "EXE_MEMORY = \"2g\"\n",
    "DRIVER_MEMORY = \"8g\"\n",
    "spark = SparkSession.builder.appName(\"AWSNLP\").config(\"spark.executor.memory\", EXE_MEMORY).config(\"spark.executor.cores\", \"2\").config(\"spark.driver.memory\", DRIVER_MEMORY).config(\"spark.cores.max\", \"10\").getOrCreate()"
   ]
  },
  {
   "cell_type": "code",
   "execution_count": 3,
   "metadata": {},
   "outputs": [],
   "source": [
    "df = spark.read.json('C:\\\\Users\\\\salon\\\\Downloads\\\\Magazine_Subscriptions.json')"
   ]
  },
  {
   "cell_type": "code",
   "execution_count": 4,
   "metadata": {},
   "outputs": [],
   "source": [
    "df=df.select('reviewText', \"overall\")"
   ]
  },
  {
   "cell_type": "code",
   "execution_count": 5,
   "metadata": {},
   "outputs": [
    {
     "name": "stdout",
     "output_type": "stream",
     "text": [
      "+--------------------+-------+---+\n",
      "|          reviewText|overall|idx|\n",
      "+--------------------+-------+---+\n",
      "|for computer enth...|    5.0|  1|\n",
      "|Thank god this is...|    5.0|  2|\n",
      "+--------------------+-------+---+\n",
      "only showing top 2 rows\n",
      "\n"
     ]
    }
   ],
   "source": [
    "from pyspark.sql.window import Window as W\n",
    "from pyspark.sql import functions as F\n",
    "df = df.withColumn(\"idx\", F.monotonically_increasing_id())\n",
    "windowSpec = W.orderBy(\"idx\")\n",
    "df.withColumn(\"idx\", F.row_number().over(windowSpec)).show(2)"
   ]
  },
  {
   "cell_type": "code",
   "execution_count": 7,
   "metadata": {},
   "outputs": [],
   "source": [
    "from pyspark.sql.functions import regexp_replace, trim, col, lower\n",
    "def removePunctuation(column):\n",
    "    \"\"\"Removes punctuation, changes to lower case, and strips leading and trailing spaces.\n",
    "\n",
    "    Note:\n",
    "        Only spaces, letters, and numbers should be retained.  Other characters should should be\n",
    "        eliminated (e.g. it's becomes its).  Leading and trailing spaces should be removed after\n",
    "        punctuation is removed.\n",
    "\n",
    "    Args:\n",
    "        column (Column): A Column containing a sentence.\n",
    "\n",
    "    Returns:\n",
    "        Column: A Column named 'sentence' with clean-up operations applied.\n",
    "    \"\"\"\n",
    "    return trim(lower(regexp_replace(column, '[^\\sa-zA-Z0-9]', ''))).alias('reviewText')\n",
    "\n",
    "df=df.select(\"IDX\", \"overall\", (removePunctuation(col('reviewText'))))\n",
    "         \n"
   ]
  },
  {
   "cell_type": "code",
   "execution_count": 8,
   "metadata": {},
   "outputs": [],
   "source": [
    "df=df.where(df.reviewText.isNotNull())"
   ]
  },
  {
   "cell_type": "code",
   "execution_count": 9,
   "metadata": {},
   "outputs": [],
   "source": [
    "from pyspark.sql import SparkSession\n",
    "from pyspark.sql.functions import udf, col, lower, regexp_replace\n",
    "from pyspark.ml.feature import Tokenizer, StopWordsRemover\n",
    "from nltk.stem.snowball import SnowballStemmer\n",
    "from pyspark.sql.types import *\n",
    "from nltk import WordNetLemmatizer\n",
    "\n",
    "\n",
    "# Tokenize text\n",
    "tokenizer = Tokenizer(inputCol='reviewText', outputCol='words_token')\n",
    "df_words_token = tokenizer.transform(df).select('IDX',\"overall\", 'words_token')\n",
    "\n",
    "# Remove stop words\n",
    "remover = StopWordsRemover(inputCol='words_token', outputCol='words_clean')\n",
    "df_words_no_stopw = remover.transform(df_words_token).select('IDX',\"overall\", 'words_clean')\n",
    "\n",
    "#lemmatization\n",
    "lemm=WordNetLemmatizer()\n",
    "lemm_udf=udf(lambda tokens:[lemm.lemmatize(token) for token in tokens], ArrayType(StringType()))\n",
    "df_lemm = df_words_no_stopw.withColumn(\"lemmi\", lemm_udf(\"words_clean\")).select('IDX',\"overall\", 'lemmi')\n",
    "\n",
    "# Stem text\n",
    "stemmer = SnowballStemmer(language='english')\n",
    "stemmer_udf = udf(lambda tokens: [stemmer.stem(token) for token in tokens], ArrayType(StringType()))\n",
    "df_stemmed = df_lemm.withColumn(\"words_stemmed\", stemmer_udf(\"lemmi\")).select('IDX',\"overall\",'words_stemmed')\n",
    "\n",
    "\n",
    "# Filter length word > 3\n",
    "filter_length_udf = udf(lambda row: [x for x in row if len(x) > 3], ArrayType(StringType()))\n",
    "df_final_words = df_stemmed.withColumn('words', filter_length_udf(col('words_stemmed'))).select('IDX',\"overall\", 'words')"
   ]
  },
  {
   "cell_type": "code",
   "execution_count": 11,
   "metadata": {},
   "outputs": [],
   "source": [
    "from pyspark.ml.feature import CountVectorizer\n",
    "from pyspark.mllib.linalg import Vectors\n",
    "\n",
    "cv=CountVectorizer(inputCol=\"words\", outputCol=\"features\")\n",
    "\n",
    "model=cv.fit(df_final_words)\n",
    "\n",
    "result=model.transform(df_final_words)"
   ]
  },
  {
   "cell_type": "code",
   "execution_count": 32,
   "metadata": {},
   "outputs": [],
   "source": [
    "(training,test)=result.randomSplit([0.7,0.3], seed=100)"
   ]
  },
  {
   "cell_type": "code",
   "execution_count": 68,
   "metadata": {},
   "outputs": [
    {
     "name": "stdout",
     "output_type": "stream",
     "text": [
      "62765\n",
      "26891\n"
     ]
    }
   ],
   "source": [
    "print(str(training.count()))\n",
    "print(str(test.count()))"
   ]
  },
  {
   "cell_type": "code",
   "execution_count": 48,
   "metadata": {},
   "outputs": [],
   "source": [
    "from pyspark.ml.linalg import Vectors, SparseVector\n",
    "from pyspark.ml.clustering import LDA\n",
    "num_topics=20\n",
    "max_iterations=500\n",
    "lda_model = LDA(k=num_topics, maxIter=max_iterations)\n",
    "modelda=lda_model.fit(training)\n"
   ]
  },
  {
   "cell_type": "code",
   "execution_count": 50,
   "metadata": {},
   "outputs": [],
   "source": [
    "lp=modelda.logPerplexity(test),modelda.logPerplexity(training)"
   ]
  },
  {
   "cell_type": "code",
   "execution_count": 51,
   "metadata": {},
   "outputs": [
    {
     "name": "stdout",
     "output_type": "stream",
     "text": [
      "(7.695705426903245, 7.227145075067786)\n"
     ]
    }
   ],
   "source": [
    "print(lp)"
   ]
  },
  {
   "cell_type": "code",
   "execution_count": 185,
   "metadata": {},
   "outputs": [
    {
     "name": "stdout",
     "output_type": "stream",
     "text": [
      "+----------------------------------------------------------------------------------------------------------+\n",
      "|words                                                                                                     |\n",
      "+----------------------------------------------------------------------------------------------------------+\n",
      "|[magazin, read, great, love, issu, articl, like, subscript, year, good]                                   |\n",
      "|[mojo, francisco, campbel, inventor, treatis, aarp, futureus, rental, nanosecond, beatl]                  |\n",
      "|[resal, peppermint, cosa, mcindo, unrelist, taffi, pagina, periodico, portada, dood]                      |\n",
      "|[guardian, greatmagazin, cchvjcn, punctual, mond, middleclass, exlent, telegraph, gtest, pattrn]          |\n",
      "|[game, xbox, aviat, flypast, sofia, vergara, warbird, synthet, tonbspa, armani]                           |\n",
      "|[colleagu, egan, snide, phantom, sizzl, endow, articlesi, cnbc, catnip, duaghter]                         |\n",
      "|[kool, signatur, blanket, saleth, nonown, vetfarri, wannabeown, sonic, horseback, undertaken]             |\n",
      "|[maximum, blah, dishonest, reveiw, citibank, wiredcom, imac, plextor, encod, benefactor]                  |\n",
      "|[nawet, aaaa, lppppu, 3494139763, newsweekand, deacad, opinionhav, wspolczesnymi, optymistyczni, odnajduj]|\n",
      "|[cigar, spous, carv, helpful, lightheart, winemak, kindel, orion, joint, pierr]                           |\n",
      "|[navi, tygodnik, tylko, neon, artnew, polecam, artykuy, jest, mnie, drodz]                                |\n",
      "|[intrest, cole, jonathan, sane, narcissist, selfabsorb, tonic, realat, sobr, bargin]                      |\n",
      "|[fish, datahookproductlinklink, classalinknorm, magizin, cruis, fisherman, bass, 1year, cruiser, kayak]   |\n",
      "|[spanish, basebal, nativ, surf, speaker, surfer, satisfactori, 1992, racist, wasp]                        |\n",
      "|[justin, issus, timberlak, choc, mozna, artykuli, ciekaw, lepsza, delta, papi]                            |\n",
      "|[motorsport, grassroot, everyman, georgia, southeast, duet, intetest, techniquerel, overestim, cane]      |\n",
      "|[diesel, hola, mower, betti, erot, cryptogram, hoscal, dreami, asdf, refriger]                            |\n",
      "|[sweet, bazaar, soup, salad, pepper, grill, potato, chees, junior, steak]                                 |\n",
      "|[android, tablet, paperwhit, mexico, compat, buddhist, kindl, revista, buddhism, para]                    |\n",
      "|[polit, writer, american, conserv, fiction, histori, liber, scienc, author, scientif]                     |\n",
      "+----------------------------------------------------------------------------------------------------------+\n",
      "\n",
      "+--------------------+\n",
      "|             weights|\n",
      "+--------------------+\n",
      "|[0.0462, 0.0154, ...|\n",
      "|[0.0179, 0.0059, ...|\n",
      "|[0.0025, 0.0021, ...|\n",
      "|[0.0151, 0.0016, ...|\n",
      "|[0.0947, 0.0328, ...|\n",
      "|[0.0041, 0.0026, ...|\n",
      "|[0.0026, 0.0013, ...|\n",
      "|[0.0330, 0.0186, ...|\n",
      "|[0.0011, 0.0010, ...|\n",
      "|[0.0123, 0.0115, ...|\n",
      "|[0.0158, 0.0043, ...|\n",
      "|[0.0106, 0.0035, ...|\n",
      "|[0.0471, 0.0391, ...|\n",
      "|[0.0352, 0.0200, ...|\n",
      "|[0.0095, 0.0040, ...|\n",
      "|[0.0159, 0.0119, ...|\n",
      "|[0.0101, 0.0044, ...|\n",
      "|[0.0213, 0.0179, ...|\n",
      "|[0.0688, 0.0309, ...|\n",
      "|[0.0153, 0.0135, ...|\n",
      "+--------------------+\n",
      "\n"
     ]
    }
   ],
   "source": [
    "topics=modelda.describeTopics()\n",
    "vocabArray=model.vocabulary\n",
    "\n",
    "ListOfIndex=udf(lambda w1: list([vocabArray[w] for w in w1]))\n",
    "FormatNumbers=udf(lambda n1: [\"{:1.4f}\".format(x) for x in n1])\n",
    "\n",
    "topics.select(ListOfIndex(topics.termIndices).alias('words')).show(truncate=False)\n",
    "topics.select(FormatNumbers(topics.termWeights). alias('weights')).show()\n"
   ]
  },
  {
   "cell_type": "code",
   "execution_count": 77,
   "metadata": {},
   "outputs": [],
   "source": [
    "df1=dk.select(\"topicDistribution\", \"IDX\", \"words\").sort(\"topicDistribution\", ascending=False, N=5)"
   ]
  },
  {
   "cell_type": "markdown",
   "metadata": {},
   "source": [
    "# TESTING\n",
    "\n",
    "For testing, as we got our LDA model we took one review that was neither from training nor from test. We took one online review of some lipstick product and our data is of Magazine Subscription. This is five rating review. We took the review in a dataframe then did the preprocessing to remove any biasedness and after countvectorizing, fitted the model. Model took term \"wife\" with very high topicDistribution. After this we also calculated the perplexity score too. "
   ]
  },
  {
   "cell_type": "code",
   "execution_count": 108,
   "metadata": {},
   "outputs": [],
   "source": [
    "# Taking the review which doesn't represent the magazine reviews still few words such as wife can be present in the magazine review also\n",
    "my_doc = \"\"\"My wife absolutely loves this lipstick. She got the rum raisin color and it is a beautiful shade of brown. It actually does have a nice amount of shine to it as well. She likes how smooth it goes on. She thinks it feels more like a tinted lip balm on instead of a lipstick. She doesn’t think it is cakey at all and it looks good on. As far as longevity goes it definitely doesn’t last all day, more like 3-4 hours.\n",
    "Overall she is very happy with this lipstick. It is actually her new favorite. She likes the way it looks and feels and it even has a nice smell to it. Thanks for reading this and please do let me know if this is helpful, feel free to leave a comment below if you have any questions or would like to see new pictures and I will do my best to answer it.\"\"\"\n",
    "\n",
    "df_my_post = spark.createDataFrame([(1,my_doc)],[\"ID\",\"reviewText\"])\n",
    "df_test=df_my_post.select(\"ID\", (removePunctuation(col('reviewText'))))\n",
    "\n",
    "df_my_tokens = tokenizer.transform(df_test)\n",
    "df_my_finalTokens = swRemover.transform(df_my_tokens).withColumn(\"words\",\n",
    "                                           stemmer_udf(\"filtered\"))\n",
    "\n",
    "my_countVectors = model.transform(df_my_finalTokens) #using the parameters of the trained model output into the \"model\" variable in the LDA step\n",
    "testtopic = modelda.transform(my_countVectors)\n",
    "\n"
   ]
  },
  {
   "cell_type": "code",
   "execution_count": 138,
   "metadata": {},
   "outputs": [
    {
     "name": "stdout",
     "output_type": "stream",
     "text": [
      "+--------------------+--------------------+\n",
      "|               words|   topicDistribution|\n",
      "+--------------------+--------------------+\n",
      "|[wife, absolut, l...|[0.99266999011921...|\n",
      "+--------------------+--------------------+\n",
      "\n"
     ]
    }
   ],
   "source": [
    "test_a=testtopic.select(\"words\", \"topicDistribution\")\n",
    "test_a.show(5)"
   ]
  },
  {
   "cell_type": "code",
   "execution_count": 131,
   "metadata": {},
   "outputs": [
    {
     "name": "stdout",
     "output_type": "stream",
     "text": [
      "+----------------------------------------------------------------------------------------------------------------------------------------------------------------------------------------------------------------------------------------------------------------------------------------------------------------------------------------------------------------------------------------------------------------------------------------------------------------------------------------------------+-------------------------------------------------------------------------------------------------------------------------------------------------------------------------------------------------------------------------------------------------------------------------------------------------------------------------------------------------------------------------------------------------------------------------------------------+\n",
      "|words                                                                                                                                                                                                                                                                                                                                                                                                                                                                                               |topicDistribution                                                                                                                                                                                                                                                                                                                                                                                                                          |\n",
      "+----------------------------------------------------------------------------------------------------------------------------------------------------------------------------------------------------------------------------------------------------------------------------------------------------------------------------------------------------------------------------------------------------------------------------------------------------------------------------------------------------+-------------------------------------------------------------------------------------------------------------------------------------------------------------------------------------------------------------------------------------------------------------------------------------------------------------------------------------------------------------------------------------------------------------------------------------------+\n",
      "|[wife, absolut, love, lipstick, got, rum, raisin, color, beauti, shade, brown, actual, nice, amount, shine, well, like, smooth, goe, think, feel, like, tint, lip, balm, instead, lipstick, doesnt, think, cakey, look, good, far, longev, goe, definit, doesnt, last, day, like, 34, hour, overal, happi, lipstick, actual, new, favorit, like, way, look, feel, even, nice, smell, thank, read, pleas, let, know, help, feel, free, leav, comment, question, like, see, new, pictur, best, answer]|[0.9926699901192138,3.657283185600665E-4,3.570810462116688E-4,3.583047048841819E-4,3.6562945138487416E-4,3.614208171012977E-4,3.581124805548966E-4,3.642495712816285E-4,3.568359221353417E-4,3.697020458737908E-4,3.6094283925465427E-4,3.6190196465621177E-4,4.8345501622888503E-4,3.7215526460550953E-4,3.5906103865292004E-4,3.579495544989393E-4,3.6312214650631946E-4,3.812276682553773E-4,3.8603166066638906E-4,6.470983694729067E-4]|\n",
      "+----------------------------------------------------------------------------------------------------------------------------------------------------------------------------------------------------------------------------------------------------------------------------------------------------------------------------------------------------------------------------------------------------------------------------------------------------------------------------------------------------+-------------------------------------------------------------------------------------------------------------------------------------------------------------------------------------------------------------------------------------------------------------------------------------------------------------------------------------------------------------------------------------------------------------------------------------------+\n",
      "\n"
     ]
    }
   ],
   "source": [
    "test_a.sort(\"topicDistribution\").show(truncate=False)"
   ]
  },
  {
   "cell_type": "code",
   "execution_count": 144,
   "metadata": {},
   "outputs": [
    {
     "data": {
      "image/png": "[encoded data removed]",
      "text/plain": [
       "<Figure size 432x288 with 1 Axes>"
      ]
     },
     "metadata": {
      "needs_background": "light"
     },
     "output_type": "display_data"
    }
   ],
   "source": [
    "from matplotlib.ticker import FuncFormatter\n",
    "import matplotlib.pyplot as plt\n",
    "import numpy as np\n",
    "\n",
    "x = np.arange(4)\n",
    "sizes = [0.992, 0.003, 0.0035, 0.00034]\n",
    "\n",
    "fig, ax = plt.subplots()\n",
    "plt.bar(x, sizes)\n",
    "plt.xticks(x, ('wife', 'absolut', 'love', 'lipstick'))\n",
    "plt.show()"
   ]
  },
  {
   "cell_type": "code",
   "execution_count": 148,
   "metadata": {},
   "outputs": [
    {
     "name": "stdout",
     "output_type": "stream",
     "text": [
      "1752.4520993101976\n"
     ]
    }
   ],
   "source": [
    "lp_val=modelda.logPerplexity(testtopic)\n",
    "print(lp_val)"
   ]
  },
  {
   "cell_type": "markdown",
   "metadata": {},
   "source": [
    "Again we put the second review from online of a dress with one rating. Applied model and got the perplexity score. "
   ]
  },
  {
   "cell_type": "code",
   "execution_count": 165,
   "metadata": {},
   "outputs": [
    {
     "name": "stdout",
     "output_type": "stream",
     "text": [
      "+--------------------+--------------------+\n",
      "|               words|   topicDistribution|\n",
      "+--------------------+--------------------+\n",
      "|[worst, dress, ev...|[0.99170405931261...|\n",
      "|[beauti, color, b...|[0.97567973102986...|\n",
      "+--------------------+--------------------+\n",
      "\n"
     ]
    }
   ],
   "source": [
    "my_doc2=\"\"\"Worst dress ever.This is the second Grace Karin dress that I ordered. It was \"the advertised\" cotton with spandex. Somehow, I expected to have the same experience when I ordered a second dress. This black flowered dress was significantly smaller despite ordering the same 2XL size. I couldn't even zip it AND the material was horrible. It was that thick cheapo polyester fabric. Even if it had fit, I would be sending in back because of the material! Very dissatisfied. \n",
    "I like the first one so much I am considering ordering a another color but I am hesitant. Thankful for Amazon easy returns.\n",
    "\"\"\"\n",
    "my_doc3=\"Beautiful color. I will buy again. Fitting is nice\"\n",
    "\n",
    "df_my_post2 = spark.createDataFrame([(1,my_doc2)],[\"ID\",\"reviewText\"])\n",
    "df_my_post3= spark.createDataFrame([(2,my_doc3)],[\"ID\",\"reviewText\"])\n",
    "\n",
    "from functools import reduce  # For Python 3.x\n",
    "from pyspark.sql import DataFrame\n",
    "\n",
    "def unionAll(*dfs):\n",
    "    return reduce(DataFrame.unionAll, dfs)\n",
    "\n",
    "t=unionAll(df_my_post2, df_my_post3)\n",
    "\n",
    "df_test2=t.select(\"ID\", (removePunctuation(col('reviewText'))))\n",
    "\n",
    "df_my_tokens2 = tokenizer.transform(df_test2)\n",
    "df_my_finalTokens2 = swRemover.transform(df_my_tokens2).withColumn(\"words\",\n",
    "                                           stemmer_udf(\"filtered\"))\n",
    "\n",
    "my_countVectors2 = model.transform(df_my_finalTokens2)\n",
    "testtopic2 = modelda.transform(my_countVectors2)\n",
    "\n",
    "test_b=testtopic2.select(\"words\", \"topicDistribution\")\n",
    "test_b.show(5)\n"
   ]
  },
  {
   "cell_type": "code",
   "execution_count": 164,
   "metadata": {},
   "outputs": [
    {
     "name": "stdout",
     "output_type": "stream",
     "text": [
      "+---+--------------------+\n",
      "| ID|          reviewText|\n",
      "+---+--------------------+\n",
      "|  1|Worst dress ever....|\n",
      "|  2|Beautiful color. ...|\n",
      "+---+--------------------+\n",
      "\n"
     ]
    }
   ],
   "source": [
    "t.show(2)"
   ]
  },
  {
   "cell_type": "code",
   "execution_count": 166,
   "metadata": {},
   "outputs": [
    {
     "name": "stdout",
     "output_type": "stream",
     "text": [
      "+-------------------------------------------------------------------------------------------------------------------------------------------------------------------------------------------------------------------------------------------------------------------------------------------------------------------------------------------------------------------------------------------------------------------+---------------------------------------------------------------------------------------------------------------------------------------------------------------------------------------------------------------------------------------------------------------------------------------------------------------------------------------------------------------------------------------------------------------------------------------------------+\n",
      "|words                                                                                                                                                                                                                                                                                                                                                                                                              |topicDistribution                                                                                                                                                                                                                                                                                                                                                                                                                                  |\n",
      "+-------------------------------------------------------------------------------------------------------------------------------------------------------------------------------------------------------------------------------------------------------------------------------------------------------------------------------------------------------------------------------------------------------------------+---------------------------------------------------------------------------------------------------------------------------------------------------------------------------------------------------------------------------------------------------------------------------------------------------------------------------------------------------------------------------------------------------------------------------------------------------+\n",
      "|[beauti, color, buy, fit, nice]                                                                                                                                                                                                                                                                                                                                                                                    |[0.9756797310298605,0.0012134514445541192,0.001184760625194194,0.0011888206071765798,0.0012131234127598395,0.0011991595683107335,0.0011881828253089682,0.0012085451030703206,0.0011839473270452148,0.0012266358902325058,0.0011975736837099515,0.0012007559696992091,0.0016040573235608648,0.0012347754344316855,0.0011913300499997493,0.0011876422522991033,0.001204804415918691,0.0012648767986297167,0.001280815984180676,0.0021470102540577254]|\n",
      "|[worst, dress, everthi, second, grace, karin, dress, order, advertis, cotton, spandex, somehow, expect, experi, order, second, dress, black, flower, dress, signific, smaller, despit, order, 2xl, size, couldnt, even, zip, materi, horribl, thick, cheapo, polyest, fabric, even, fit, send, back, materi, dissatisfi, , like, first, one, much, consid, order, anoth, color, hesit, thank, amazon, easi, return]|[0.9917040593126161,4.1392310331161974E-4,4.041363145288373E-4,4.055212239531744E-4,4.1381120766150327E-4,4.090479698290587E-4,4.0530366877116657E-4,4.122494903277672E-4,4.0385888860029783E-4,4.1842047870734196E-4,4.0850700522895395E-4,4.0959252183385E-4,5.471635377235995E-4,4.211969766130365E-4,4.063772255390731E-4,4.051192727174027E-4,4.109734962686152E-4,4.314649194620729E-4,4.369019702621872E-4,7.32371416043828E-4]             |\n",
      "+-------------------------------------------------------------------------------------------------------------------------------------------------------------------------------------------------------------------------------------------------------------------------------------------------------------------------------------------------------------------------------------------------------------------+---------------------------------------------------------------------------------------------------------------------------------------------------------------------------------------------------------------------------------------------------------------------------------------------------------------------------------------------------------------------------------------------------------------------------------------------------+\n",
      "\n"
     ]
    }
   ],
   "source": [
    "test_b.sort(\"topicDistribution\").show(truncate=False)"
   ]
  },
  {
   "cell_type": "code",
   "execution_count": 174,
   "metadata": {},
   "outputs": [
    {
     "data": {
      "image/png": "[encoded data removed]",
      "text/plain": [
       "<Figure size 640x480 with 1 Axes>"
      ]
     },
     "metadata": {},
     "output_type": "display_data"
    }
   ],
   "source": [
    "from matplotlib.ticker import FuncFormatter\n",
    "import matplotlib.pyplot as plt\n",
    "import numpy as np\n",
    "\n",
    "x = np.arange(4)\n",
    "sizes = [0.99, 0.004, 0.001, 0.001]\n",
    "\n",
    "fig, ax = plt.subplots()\n",
    "plt.bar(x, sizes)\n",
    "plt.xticks(x, ('worst', 'dress', 'everthi', 'second'))\n",
    "plt.show()"
   ]
  },
  {
   "cell_type": "code",
   "execution_count": 176,
   "metadata": {},
   "outputs": [
    {
     "name": "stdout",
     "output_type": "stream",
     "text": [
      "1958.398278590617\n"
     ]
    }
   ],
   "source": [
    "lp_val2=modelda.logPerplexity(testtopic2)\n",
    "print(lp_val2)"
   ]
  }
 ],
 "metadata": {
  "kernelspec": {
   "display_name": "Python 3",
   "language": "python",
   "name": "python3"
  },
  "language_info": {
   "codemirror_mode": {
    "name": "ipython",
    "version": 3
   },
   "file_extension": ".py",
   "mimetype": "text/x-python",
   "name": "python",
   "nbconvert_exporter": "python",
   "pygments_lexer": "ipython3",
   "version": "3.7.6"
  }
 },
 "nbformat": 4,
 "nbformat_minor": 2
}
